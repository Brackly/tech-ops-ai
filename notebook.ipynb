{
 "cells": [
  {
   "cell_type": "code",
   "execution_count": 78,
   "id": "cee3c3e1-4cff-4f88-b9b1-33b5d9547904",
   "metadata": {},
   "outputs": [],
   "source": [
    "import torch\n",
    "import torch.nn as nn"
   ]
  },
  {
   "cell_type": "code",
   "execution_count": 135,
   "id": "05689546-e4bf-40c5-9f51-140f8aec56c9",
   "metadata": {},
   "outputs": [],
   "source": [
    "import pandas as pd\n",
    "import numpy as np\n",
    "from tqdm import tqdm\n",
    "device='cuda' if torch.cuda.is_available() else 'cpu'"
   ]
  },
  {
   "cell_type": "code",
   "execution_count": 196,
   "id": "7ad196e6-902e-4224-aadd-9b8f8cd9a778",
   "metadata": {},
   "outputs": [],
   "source": [
    "df = pd.read_csv('./Data/train.csv')"
   ]
  },
  {
   "cell_type": "code",
   "execution_count": 183,
   "id": "02393d53-a10d-4488-8213-501cb608d9a4",
   "metadata": {},
   "outputs": [
    {
     "name": "stdout",
     "output_type": "stream",
     "text": [
      "<class 'pandas.core.frame.DataFrame'>\n",
      "RangeIndex: 612702 entries, 0 to 612701\n",
      "Data columns (total 4 columns):\n",
      " #   Column           Non-Null Count   Dtype  \n",
      "---  ------           --------------   -----  \n",
      " 0   Viewers_ID       612702 non-null  object \n",
      " 1   Joke_identifier  612702 non-null  object \n",
      " 2   Response_ID      612702 non-null  object \n",
      " 3   Rating           612702 non-null  float64\n",
      "dtypes: float64(1), object(3)\n",
      "memory usage: 18.7+ MB\n"
     ]
    }
   ],
   "source": [
    "df.info()"
   ]
  },
  {
   "cell_type": "code",
   "execution_count": 184,
   "id": "2829cb9c-1f22-43b6-bb3a-d5273349fc58",
   "metadata": {},
   "outputs": [
    {
     "data": {
      "text/html": [
       "<div>\n",
       "<style scoped>\n",
       "    .dataframe tbody tr th:only-of-type {\n",
       "        vertical-align: middle;\n",
       "    }\n",
       "\n",
       "    .dataframe tbody tr th {\n",
       "        vertical-align: top;\n",
       "    }\n",
       "\n",
       "    .dataframe thead th {\n",
       "        text-align: right;\n",
       "    }\n",
       "</style>\n",
       "<table border=\"1\" class=\"dataframe\">\n",
       "  <thead>\n",
       "    <tr style=\"text-align: right;\">\n",
       "      <th></th>\n",
       "      <th>Rating</th>\n",
       "    </tr>\n",
       "  </thead>\n",
       "  <tbody>\n",
       "    <tr>\n",
       "      <th>count</th>\n",
       "      <td>612702.000000</td>\n",
       "    </tr>\n",
       "    <tr>\n",
       "      <th>mean</th>\n",
       "      <td>0.647024</td>\n",
       "    </tr>\n",
       "    <tr>\n",
       "      <th>std</th>\n",
       "      <td>2.667301</td>\n",
       "    </tr>\n",
       "    <tr>\n",
       "      <th>min</th>\n",
       "      <td>-5.000000</td>\n",
       "    </tr>\n",
       "    <tr>\n",
       "      <th>25%</th>\n",
       "      <td>-1.300000</td>\n",
       "    </tr>\n",
       "    <tr>\n",
       "      <th>50%</th>\n",
       "      <td>0.950000</td>\n",
       "    </tr>\n",
       "    <tr>\n",
       "      <th>75%</th>\n",
       "      <td>2.690000</td>\n",
       "    </tr>\n",
       "    <tr>\n",
       "      <th>max</th>\n",
       "      <td>5.000000</td>\n",
       "    </tr>\n",
       "  </tbody>\n",
       "</table>\n",
       "</div>"
      ],
      "text/plain": [
       "              Rating\n",
       "count  612702.000000\n",
       "mean        0.647024\n",
       "std         2.667301\n",
       "min        -5.000000\n",
       "25%        -1.300000\n",
       "50%         0.950000\n",
       "75%         2.690000\n",
       "max         5.000000"
      ]
     },
     "execution_count": 184,
     "metadata": {},
     "output_type": "execute_result"
    }
   ],
   "source": [
    "df.describe()"
   ]
  },
  {
   "cell_type": "code",
   "execution_count": 185,
   "id": "004610b3-55f6-4bf8-b5f6-c98e0f93a8e1",
   "metadata": {},
   "outputs": [
    {
     "name": "stdout",
     "output_type": "stream",
     "text": [
      "Number of viewers: 40863\n",
      "Number of Content:127\n"
     ]
    }
   ],
   "source": [
    "print(f\"Number of viewers: {df['Viewers_ID'].nunique()}\\nNumber of Content:{df['Joke_identifier'].nunique()}\")"
   ]
  },
  {
   "cell_type": "markdown",
   "id": "c8cdec18-c0a8-436d-83e8-f1ddda7d37aa",
   "metadata": {},
   "source": [
    "**Number of Ratings if all viewers watched all content:**"
   ]
  },
  {
   "cell_type": "code",
   "execution_count": 186,
   "id": "db2a1055-9124-4c3f-b279-ffe13685d4ce",
   "metadata": {},
   "outputs": [
    {
     "data": {
      "text/plain": [
       "5189601"
      ]
     },
     "execution_count": 186,
     "metadata": {},
     "output_type": "execute_result"
    }
   ],
   "source": [
    " df['Viewers_ID'].nunique()*df['Joke_identifier'].nunique()"
   ]
  },
  {
   "cell_type": "markdown",
   "id": "4a1f45a9-d589-441f-8bfc-95b78e7fb264",
   "metadata": {},
   "source": [
    "**Number of Ratings we have:**"
   ]
  },
  {
   "cell_type": "code",
   "execution_count": 187,
   "id": "4f2c3713-e20a-4dbf-9c84-309dd1a2a538",
   "metadata": {},
   "outputs": [
    {
     "data": {
      "text/plain": [
       "612702"
      ]
     },
     "execution_count": 187,
     "metadata": {},
     "output_type": "execute_result"
    }
   ],
   "source": [
    "len(df)"
   ]
  },
  {
   "cell_type": "code",
   "execution_count": 188,
   "id": "d3c3a302-8308-4cf4-85ba-1aa6bffecab3",
   "metadata": {},
   "outputs": [
    {
     "name": "stdout",
     "output_type": "stream",
     "text": [
      "Percentagewise: 11.806341181142828% of the data has ratings\n"
     ]
    }
   ],
   "source": [
    "print(f\"Percentagewise: {(612702/5189601)*100}% of the data has ratings\")"
   ]
  },
  {
   "cell_type": "markdown",
   "id": "84f11e3b-5079-41b3-aa06-716a9b2192ee",
   "metadata": {},
   "source": [
    "**User to number of comedy Distribution**"
   ]
  },
  {
   "cell_type": "code",
   "execution_count": 189,
   "id": "1b1f2fe9-7d75-4baa-8d0f-e027dc9f2caf",
   "metadata": {},
   "outputs": [
    {
     "data": {
      "text/plain": [
       "Viewers_ID\n",
       "A366      54\n",
       "A233      54\n",
       "A367      54\n",
       "A179      54\n",
       "A337      54\n",
       "          ..\n",
       "A14786     2\n",
       "A17926     2\n",
       "A30007     2\n",
       "A37195     2\n",
       "A15489     2\n",
       "Name: count, Length: 40863, dtype: int64"
      ]
     },
     "execution_count": 189,
     "metadata": {},
     "output_type": "execute_result"
    }
   ],
   "source": [
    "df['Viewers_ID'].value_counts()"
   ]
  },
  {
   "cell_type": "code",
   "execution_count": 190,
   "id": "8b056eb0-d14e-4030-82a8-f633f9d8fcbc",
   "metadata": {
    "scrolled": true
   },
   "outputs": [
    {
     "data": {
      "text/html": [
       "<div>\n",
       "<style scoped>\n",
       "    .dataframe tbody tr th:only-of-type {\n",
       "        vertical-align: middle;\n",
       "    }\n",
       "\n",
       "    .dataframe tbody tr th {\n",
       "        vertical-align: top;\n",
       "    }\n",
       "\n",
       "    .dataframe thead th {\n",
       "        text-align: right;\n",
       "    }\n",
       "</style>\n",
       "<table border=\"1\" class=\"dataframe\">\n",
       "  <thead>\n",
       "    <tr style=\"text-align: right;\">\n",
       "      <th></th>\n",
       "      <th>Viewers_ID</th>\n",
       "      <th>Joke_identifier</th>\n",
       "      <th>Response_ID</th>\n",
       "      <th>Rating</th>\n",
       "    </tr>\n",
       "  </thead>\n",
       "  <tbody>\n",
       "    <tr>\n",
       "      <th>451655</th>\n",
       "      <td>A366</td>\n",
       "      <td>Klint De Drunk Enugu 2</td>\n",
       "      <td>A366_Klint De Drunk Enugu 2</td>\n",
       "      <td>-3.83</td>\n",
       "    </tr>\n",
       "    <tr>\n",
       "      <th>451656</th>\n",
       "      <td>A366</td>\n",
       "      <td>Klint De Drunk Enugu 3</td>\n",
       "      <td>A366_Klint De Drunk Enugu 3</td>\n",
       "      <td>-4.89</td>\n",
       "    </tr>\n",
       "    <tr>\n",
       "      <th>451657</th>\n",
       "      <td>A366</td>\n",
       "      <td>Klint De Drunk PH 1</td>\n",
       "      <td>A366_Klint De Drunk PH 1</td>\n",
       "      <td>-2.39</td>\n",
       "    </tr>\n",
       "    <tr>\n",
       "      <th>451658</th>\n",
       "      <td>A366</td>\n",
       "      <td>Klint De Drunk PH 2</td>\n",
       "      <td>A366_Klint De Drunk PH 2</td>\n",
       "      <td>-4.81</td>\n",
       "    </tr>\n",
       "    <tr>\n",
       "      <th>451659</th>\n",
       "      <td>A366</td>\n",
       "      <td>Klint De Drunk Lagos 2</td>\n",
       "      <td>A366_Klint De Drunk Lagos 2</td>\n",
       "      <td>0.58</td>\n",
       "    </tr>\n",
       "    <tr>\n",
       "      <th>451660</th>\n",
       "      <td>A366</td>\n",
       "      <td>Klint De Drunk Warri 2</td>\n",
       "      <td>A366_Klint De Drunk Warri 2</td>\n",
       "      <td>2.78</td>\n",
       "    </tr>\n",
       "    <tr>\n",
       "      <th>451661</th>\n",
       "      <td>A366</td>\n",
       "      <td>AliBaba Lagos 1</td>\n",
       "      <td>A366_AliBaba Lagos 1</td>\n",
       "      <td>3.58</td>\n",
       "    </tr>\n",
       "    <tr>\n",
       "      <th>451662</th>\n",
       "      <td>A366</td>\n",
       "      <td>AliBaba Lagos 3</td>\n",
       "      <td>A366_AliBaba Lagos 3</td>\n",
       "      <td>2.59</td>\n",
       "    </tr>\n",
       "    <tr>\n",
       "      <th>451663</th>\n",
       "      <td>A366</td>\n",
       "      <td>AliBaba Lagos 4</td>\n",
       "      <td>A366_AliBaba Lagos 4</td>\n",
       "      <td>-4.11</td>\n",
       "    </tr>\n",
       "    <tr>\n",
       "      <th>451664</th>\n",
       "      <td>A366</td>\n",
       "      <td>AliBaba Lagos 5</td>\n",
       "      <td>A366_AliBaba Lagos 5</td>\n",
       "      <td>2.17</td>\n",
       "    </tr>\n",
       "    <tr>\n",
       "      <th>451665</th>\n",
       "      <td>A366</td>\n",
       "      <td>AliBaba Aso Rock 1</td>\n",
       "      <td>A366_AliBaba Aso Rock 1</td>\n",
       "      <td>0.70</td>\n",
       "    </tr>\n",
       "    <tr>\n",
       "      <th>451666</th>\n",
       "      <td>A366</td>\n",
       "      <td>AliBaba Aso Rock 2</td>\n",
       "      <td>A366_AliBaba Aso Rock 2</td>\n",
       "      <td>0.94</td>\n",
       "    </tr>\n",
       "    <tr>\n",
       "      <th>451667</th>\n",
       "      <td>A366</td>\n",
       "      <td>AliBaba Abuja 1</td>\n",
       "      <td>A366_AliBaba Abuja 1</td>\n",
       "      <td>2.81</td>\n",
       "    </tr>\n",
       "    <tr>\n",
       "      <th>451668</th>\n",
       "      <td>A366</td>\n",
       "      <td>AliBaba Abuja 2</td>\n",
       "      <td>A366_AliBaba Abuja 2</td>\n",
       "      <td>3.17</td>\n",
       "    </tr>\n",
       "    <tr>\n",
       "      <th>451669</th>\n",
       "      <td>A366</td>\n",
       "      <td>AliBaba Abuja 3</td>\n",
       "      <td>A366_AliBaba Abuja 3</td>\n",
       "      <td>-1.33</td>\n",
       "    </tr>\n",
       "    <tr>\n",
       "      <th>451670</th>\n",
       "      <td>A366</td>\n",
       "      <td>AliBaba PH 3</td>\n",
       "      <td>A366_AliBaba PH 3</td>\n",
       "      <td>-1.36</td>\n",
       "    </tr>\n",
       "    <tr>\n",
       "      <th>451671</th>\n",
       "      <td>A366</td>\n",
       "      <td>BasketMouth Lagos 3</td>\n",
       "      <td>A366_BasketMouth Lagos 3</td>\n",
       "      <td>3.39</td>\n",
       "    </tr>\n",
       "    <tr>\n",
       "      <th>451672</th>\n",
       "      <td>A366</td>\n",
       "      <td>BasketMouth Owerri 2</td>\n",
       "      <td>A366_BasketMouth Owerri 2</td>\n",
       "      <td>-0.80</td>\n",
       "    </tr>\n",
       "    <tr>\n",
       "      <th>451673</th>\n",
       "      <td>A366</td>\n",
       "      <td>AY Lagos 1</td>\n",
       "      <td>A366_AY Lagos 1</td>\n",
       "      <td>0.38</td>\n",
       "    </tr>\n",
       "    <tr>\n",
       "      <th>451674</th>\n",
       "      <td>A366</td>\n",
       "      <td>AY Lagos 3</td>\n",
       "      <td>A366_AY Lagos 3</td>\n",
       "      <td>0.22</td>\n",
       "    </tr>\n",
       "    <tr>\n",
       "      <th>451675</th>\n",
       "      <td>A366</td>\n",
       "      <td>AY Abuja 2</td>\n",
       "      <td>A366_AY Abuja 2</td>\n",
       "      <td>-1.61</td>\n",
       "    </tr>\n",
       "    <tr>\n",
       "      <th>451676</th>\n",
       "      <td>A366</td>\n",
       "      <td>AY Abuja 3</td>\n",
       "      <td>A366_AY Abuja 3</td>\n",
       "      <td>-1.22</td>\n",
       "    </tr>\n",
       "    <tr>\n",
       "      <th>451677</th>\n",
       "      <td>A366</td>\n",
       "      <td>AY Warri 1</td>\n",
       "      <td>A366_AY Warri 1</td>\n",
       "      <td>4.33</td>\n",
       "    </tr>\n",
       "    <tr>\n",
       "      <th>451678</th>\n",
       "      <td>A366</td>\n",
       "      <td>AY Warri 2</td>\n",
       "      <td>A366_AY Warri 2</td>\n",
       "      <td>1.53</td>\n",
       "    </tr>\n",
       "    <tr>\n",
       "      <th>451679</th>\n",
       "      <td>A366</td>\n",
       "      <td>Bovi Warri 2</td>\n",
       "      <td>A366_Bovi Warri 2</td>\n",
       "      <td>1.36</td>\n",
       "    </tr>\n",
       "    <tr>\n",
       "      <th>451680</th>\n",
       "      <td>A366</td>\n",
       "      <td>Bovi Warri 3</td>\n",
       "      <td>A366_Bovi Warri 3</td>\n",
       "      <td>-1.41</td>\n",
       "    </tr>\n",
       "    <tr>\n",
       "      <th>451681</th>\n",
       "      <td>A366</td>\n",
       "      <td>Bovi Warri 4</td>\n",
       "      <td>A366_Bovi Warri 4</td>\n",
       "      <td>0.95</td>\n",
       "    </tr>\n",
       "    <tr>\n",
       "      <th>451682</th>\n",
       "      <td>A366</td>\n",
       "      <td>Bovi Lagos 1</td>\n",
       "      <td>A366_Bovi Lagos 1</td>\n",
       "      <td>0.03</td>\n",
       "    </tr>\n",
       "    <tr>\n",
       "      <th>451683</th>\n",
       "      <td>A366</td>\n",
       "      <td>Bovi Lagos 2</td>\n",
       "      <td>A366_Bovi Lagos 2</td>\n",
       "      <td>-1.86</td>\n",
       "    </tr>\n",
       "    <tr>\n",
       "      <th>451684</th>\n",
       "      <td>A366</td>\n",
       "      <td>Bovi Abuja 1</td>\n",
       "      <td>A366_Bovi Abuja 1</td>\n",
       "      <td>3.34</td>\n",
       "    </tr>\n",
       "    <tr>\n",
       "      <th>451685</th>\n",
       "      <td>A366</td>\n",
       "      <td>Bovi Abuja 2</td>\n",
       "      <td>A366_Bovi Abuja 2</td>\n",
       "      <td>-1.83</td>\n",
       "    </tr>\n",
       "    <tr>\n",
       "      <th>451686</th>\n",
       "      <td>A366</td>\n",
       "      <td>Bovi Abuja 4</td>\n",
       "      <td>A366_Bovi Abuja 4</td>\n",
       "      <td>4.23</td>\n",
       "    </tr>\n",
       "    <tr>\n",
       "      <th>451687</th>\n",
       "      <td>A366</td>\n",
       "      <td>Bovi Abuja 5</td>\n",
       "      <td>A366_Bovi Abuja 5</td>\n",
       "      <td>1.77</td>\n",
       "    </tr>\n",
       "    <tr>\n",
       "      <th>451688</th>\n",
       "      <td>A366</td>\n",
       "      <td>Akpororo Warri 3</td>\n",
       "      <td>A366_Akpororo Warri 3</td>\n",
       "      <td>0.41</td>\n",
       "    </tr>\n",
       "    <tr>\n",
       "      <th>451689</th>\n",
       "      <td>A366</td>\n",
       "      <td>Akpororo Warri 4</td>\n",
       "      <td>A366_Akpororo Warri 4</td>\n",
       "      <td>3.53</td>\n",
       "    </tr>\n",
       "    <tr>\n",
       "      <th>451690</th>\n",
       "      <td>A366</td>\n",
       "      <td>Akpororo Lagos 1</td>\n",
       "      <td>A366_Akpororo Lagos 1</td>\n",
       "      <td>0.63</td>\n",
       "    </tr>\n",
       "    <tr>\n",
       "      <th>451691</th>\n",
       "      <td>A366</td>\n",
       "      <td>Akpororo Lagos 2</td>\n",
       "      <td>A366_Akpororo Lagos 2</td>\n",
       "      <td>-0.30</td>\n",
       "    </tr>\n",
       "    <tr>\n",
       "      <th>451692</th>\n",
       "      <td>A366</td>\n",
       "      <td>Akpororo Lagos 3</td>\n",
       "      <td>A366_Akpororo Lagos 3</td>\n",
       "      <td>2.69</td>\n",
       "    </tr>\n",
       "    <tr>\n",
       "      <th>451693</th>\n",
       "      <td>A366</td>\n",
       "      <td>Akpororo Lagos 4</td>\n",
       "      <td>A366_Akpororo Lagos 4</td>\n",
       "      <td>-1.52</td>\n",
       "    </tr>\n",
       "    <tr>\n",
       "      <th>451694</th>\n",
       "      <td>A366</td>\n",
       "      <td>Akpororo Abuja 1</td>\n",
       "      <td>A366_Akpororo Abuja 1</td>\n",
       "      <td>2.47</td>\n",
       "    </tr>\n",
       "    <tr>\n",
       "      <th>451695</th>\n",
       "      <td>A366</td>\n",
       "      <td>Akpororo Abuja 3</td>\n",
       "      <td>A366_Akpororo Abuja 3</td>\n",
       "      <td>1.80</td>\n",
       "    </tr>\n",
       "    <tr>\n",
       "      <th>451696</th>\n",
       "      <td>A366</td>\n",
       "      <td>Akpororo Abuja 5</td>\n",
       "      <td>A366_Akpororo Abuja 5</td>\n",
       "      <td>3.14</td>\n",
       "    </tr>\n",
       "    <tr>\n",
       "      <th>451697</th>\n",
       "      <td>A366</td>\n",
       "      <td>I Go Dye Lagos 1</td>\n",
       "      <td>A366_I Go Dye Lagos 1</td>\n",
       "      <td>-0.36</td>\n",
       "    </tr>\n",
       "    <tr>\n",
       "      <th>451698</th>\n",
       "      <td>A366</td>\n",
       "      <td>I Go Dye Lagos 2</td>\n",
       "      <td>A366_I Go Dye Lagos 2</td>\n",
       "      <td>2.02</td>\n",
       "    </tr>\n",
       "    <tr>\n",
       "      <th>451699</th>\n",
       "      <td>A366</td>\n",
       "      <td>I Go Dye Lagos 3</td>\n",
       "      <td>A366_I Go Dye Lagos 3</td>\n",
       "      <td>1.67</td>\n",
       "    </tr>\n",
       "    <tr>\n",
       "      <th>451700</th>\n",
       "      <td>A366</td>\n",
       "      <td>I Go Dye Abuja 2</td>\n",
       "      <td>A366_I Go Dye Abuja 2</td>\n",
       "      <td>0.78</td>\n",
       "    </tr>\n",
       "    <tr>\n",
       "      <th>451701</th>\n",
       "      <td>A366</td>\n",
       "      <td>I Go Dye Abuja 3</td>\n",
       "      <td>A366_I Go Dye Abuja 3</td>\n",
       "      <td>4.86</td>\n",
       "    </tr>\n",
       "    <tr>\n",
       "      <th>451702</th>\n",
       "      <td>A366</td>\n",
       "      <td>I Go Dye Abuja 4</td>\n",
       "      <td>A366_I Go Dye Abuja 4</td>\n",
       "      <td>0.88</td>\n",
       "    </tr>\n",
       "    <tr>\n",
       "      <th>451703</th>\n",
       "      <td>A366</td>\n",
       "      <td>I Go Dye Benin 2</td>\n",
       "      <td>A366_I Go Dye Benin 2</td>\n",
       "      <td>2.86</td>\n",
       "    </tr>\n",
       "    <tr>\n",
       "      <th>451704</th>\n",
       "      <td>A366</td>\n",
       "      <td>I Go Dye Benin 3</td>\n",
       "      <td>A366_I Go Dye Benin 3</td>\n",
       "      <td>0.98</td>\n",
       "    </tr>\n",
       "    <tr>\n",
       "      <th>451705</th>\n",
       "      <td>A366</td>\n",
       "      <td>I Go Dye Uyo 2</td>\n",
       "      <td>A366_I Go Dye Uyo 2</td>\n",
       "      <td>1.52</td>\n",
       "    </tr>\n",
       "    <tr>\n",
       "      <th>451706</th>\n",
       "      <td>A366</td>\n",
       "      <td>Seyi Law Ibadan 1</td>\n",
       "      <td>A366_Seyi Law Ibadan 1</td>\n",
       "      <td>0.48</td>\n",
       "    </tr>\n",
       "    <tr>\n",
       "      <th>451707</th>\n",
       "      <td>A366</td>\n",
       "      <td>Seyi Law Ibadan 2</td>\n",
       "      <td>A366_Seyi Law Ibadan 2</td>\n",
       "      <td>4.20</td>\n",
       "    </tr>\n",
       "    <tr>\n",
       "      <th>451708</th>\n",
       "      <td>A366</td>\n",
       "      <td>Seyi Law Lagos 1</td>\n",
       "      <td>A366_Seyi Law Lagos 1</td>\n",
       "      <td>2.72</td>\n",
       "    </tr>\n",
       "  </tbody>\n",
       "</table>\n",
       "</div>"
      ],
      "text/plain": [
       "       Viewers_ID         Joke_identifier                  Response_ID  Rating\n",
       "451655       A366  Klint De Drunk Enugu 2  A366_Klint De Drunk Enugu 2   -3.83\n",
       "451656       A366  Klint De Drunk Enugu 3  A366_Klint De Drunk Enugu 3   -4.89\n",
       "451657       A366     Klint De Drunk PH 1     A366_Klint De Drunk PH 1   -2.39\n",
       "451658       A366     Klint De Drunk PH 2     A366_Klint De Drunk PH 2   -4.81\n",
       "451659       A366  Klint De Drunk Lagos 2  A366_Klint De Drunk Lagos 2    0.58\n",
       "451660       A366  Klint De Drunk Warri 2  A366_Klint De Drunk Warri 2    2.78\n",
       "451661       A366         AliBaba Lagos 1         A366_AliBaba Lagos 1    3.58\n",
       "451662       A366         AliBaba Lagos 3         A366_AliBaba Lagos 3    2.59\n",
       "451663       A366         AliBaba Lagos 4         A366_AliBaba Lagos 4   -4.11\n",
       "451664       A366         AliBaba Lagos 5         A366_AliBaba Lagos 5    2.17\n",
       "451665       A366      AliBaba Aso Rock 1      A366_AliBaba Aso Rock 1    0.70\n",
       "451666       A366      AliBaba Aso Rock 2      A366_AliBaba Aso Rock 2    0.94\n",
       "451667       A366         AliBaba Abuja 1         A366_AliBaba Abuja 1    2.81\n",
       "451668       A366         AliBaba Abuja 2         A366_AliBaba Abuja 2    3.17\n",
       "451669       A366         AliBaba Abuja 3         A366_AliBaba Abuja 3   -1.33\n",
       "451670       A366            AliBaba PH 3            A366_AliBaba PH 3   -1.36\n",
       "451671       A366     BasketMouth Lagos 3     A366_BasketMouth Lagos 3    3.39\n",
       "451672       A366    BasketMouth Owerri 2    A366_BasketMouth Owerri 2   -0.80\n",
       "451673       A366              AY Lagos 1              A366_AY Lagos 1    0.38\n",
       "451674       A366              AY Lagos 3              A366_AY Lagos 3    0.22\n",
       "451675       A366              AY Abuja 2              A366_AY Abuja 2   -1.61\n",
       "451676       A366              AY Abuja 3              A366_AY Abuja 3   -1.22\n",
       "451677       A366              AY Warri 1              A366_AY Warri 1    4.33\n",
       "451678       A366              AY Warri 2              A366_AY Warri 2    1.53\n",
       "451679       A366            Bovi Warri 2            A366_Bovi Warri 2    1.36\n",
       "451680       A366            Bovi Warri 3            A366_Bovi Warri 3   -1.41\n",
       "451681       A366            Bovi Warri 4            A366_Bovi Warri 4    0.95\n",
       "451682       A366            Bovi Lagos 1            A366_Bovi Lagos 1    0.03\n",
       "451683       A366            Bovi Lagos 2            A366_Bovi Lagos 2   -1.86\n",
       "451684       A366            Bovi Abuja 1            A366_Bovi Abuja 1    3.34\n",
       "451685       A366            Bovi Abuja 2            A366_Bovi Abuja 2   -1.83\n",
       "451686       A366            Bovi Abuja 4            A366_Bovi Abuja 4    4.23\n",
       "451687       A366            Bovi Abuja 5            A366_Bovi Abuja 5    1.77\n",
       "451688       A366        Akpororo Warri 3        A366_Akpororo Warri 3    0.41\n",
       "451689       A366        Akpororo Warri 4        A366_Akpororo Warri 4    3.53\n",
       "451690       A366        Akpororo Lagos 1        A366_Akpororo Lagos 1    0.63\n",
       "451691       A366        Akpororo Lagos 2        A366_Akpororo Lagos 2   -0.30\n",
       "451692       A366        Akpororo Lagos 3        A366_Akpororo Lagos 3    2.69\n",
       "451693       A366        Akpororo Lagos 4        A366_Akpororo Lagos 4   -1.52\n",
       "451694       A366        Akpororo Abuja 1        A366_Akpororo Abuja 1    2.47\n",
       "451695       A366        Akpororo Abuja 3        A366_Akpororo Abuja 3    1.80\n",
       "451696       A366        Akpororo Abuja 5        A366_Akpororo Abuja 5    3.14\n",
       "451697       A366        I Go Dye Lagos 1        A366_I Go Dye Lagos 1   -0.36\n",
       "451698       A366        I Go Dye Lagos 2        A366_I Go Dye Lagos 2    2.02\n",
       "451699       A366        I Go Dye Lagos 3        A366_I Go Dye Lagos 3    1.67\n",
       "451700       A366        I Go Dye Abuja 2        A366_I Go Dye Abuja 2    0.78\n",
       "451701       A366        I Go Dye Abuja 3        A366_I Go Dye Abuja 3    4.86\n",
       "451702       A366        I Go Dye Abuja 4        A366_I Go Dye Abuja 4    0.88\n",
       "451703       A366        I Go Dye Benin 2        A366_I Go Dye Benin 2    2.86\n",
       "451704       A366        I Go Dye Benin 3        A366_I Go Dye Benin 3    0.98\n",
       "451705       A366          I Go Dye Uyo 2          A366_I Go Dye Uyo 2    1.52\n",
       "451706       A366       Seyi Law Ibadan 1       A366_Seyi Law Ibadan 1    0.48\n",
       "451707       A366       Seyi Law Ibadan 2       A366_Seyi Law Ibadan 2    4.20\n",
       "451708       A366        Seyi Law Lagos 1        A366_Seyi Law Lagos 1    2.72"
      ]
     },
     "execution_count": 190,
     "metadata": {},
     "output_type": "execute_result"
    }
   ],
   "source": [
    "#Sample User\n",
    "df[df['Viewers_ID']=='A366']"
   ]
  },
  {
   "cell_type": "code",
   "execution_count": 191,
   "id": "a03e329a-7390-430e-ae48-05016d6f28c7",
   "metadata": {},
   "outputs": [
    {
     "data": {
      "text/plain": [
       "Joke_identifier\n",
       "Klint De Drunk PH 2       26311\n",
       "Klint De Drunk Enugu 2    26286\n",
       "Klint De Drunk PH 1       26254\n",
       "Klint De Drunk Enugu 3    26234\n",
       "Klint De Drunk Lagos 1    25864\n",
       "                          ...  \n",
       "Funny Bone Abuja 1            2\n",
       "Okey Bakassi Abuja 5          2\n",
       "Okey Bakassi Abuja 1          1\n",
       "Okey Bakassi Abuja 2          1\n",
       "Okey Bakassi Lagos 3          1\n",
       "Name: count, Length: 127, dtype: int64"
      ]
     },
     "execution_count": 191,
     "metadata": {},
     "output_type": "execute_result"
    }
   ],
   "source": [
    "#Most popular Comedies\n",
    "df['Joke_identifier'].value_counts()"
   ]
  },
  {
   "cell_type": "code",
   "execution_count": 73,
   "id": "a398a007-854f-4a3d-8034-8c2382265675",
   "metadata": {},
   "outputs": [],
   "source": [
    "# Average rating for each user]\\\n",
    "avg_ratings_user={}\n",
    "avg_ratings_comedy={}\n",
    "\n",
    "def find_avg_rating_user(user):\n",
    "    ratings=df[df['Viewers_ID']==user]['Rating'].values\n",
    "    avg_rating=np.sum(ratings)/len(ratings)\n",
    "    avg_ratings_user[user]=avg_rating\n",
    "    \n",
    "def find_avg_rating_comedy(comedy):\n",
    "    ratings=df[df['Joke_identifier']==comedy]['Rating'].values\n",
    "    avg_rating=np.sum(ratings)/len(ratings)\n",
    "    avg_ratings_comedy[comedy]=avg_rating\n",
    "    \n",
    "for index,row in df.iterrows():\n",
    "    user,comedy=row['Viewers_ID'],row['Joke_identifier']\n",
    "    if user not in avg_ratings_user.keys():\n",
    "        find_avg_rating_user(user)\n",
    "    if comedy not in avg_ratings_comedy.keys():\n",
    "        find_avg_rating_comedy(comedy)"
   ]
  },
  {
   "cell_type": "code",
   "execution_count": 192,
   "id": "0f86ed91-7d37-493f-9dfb-266b5385ded5",
   "metadata": {},
   "outputs": [],
   "source": [
    "users_to_i={k:v for k,v in zip(df['Viewers_ID'].unique(),range(len(df['Viewers_ID'].unique())))}\n",
    "comedy_to_i={k:v for k,v in zip(df['Joke_identifier'].unique(),range(len(df['Joke_identifier'].unique())))}\n",
    "\n",
    "i_to_users={users_to_i[k]:k for k in users_to_i.keys()}\n",
    "i_to_comedy={comedy_to_i[k]:k for k in comedy_to_i.keys()}"
   ]
  },
  {
   "cell_type": "code",
   "execution_count": 193,
   "id": "a7b7166a-de60-4ba7-9cb0-0c8e23be45c6",
   "metadata": {},
   "outputs": [],
   "source": [
    "df['Response_ID']=[x for x in range(len(df))]"
   ]
  },
  {
   "cell_type": "code",
   "execution_count": 194,
   "id": "7758bb54-0ba2-4e1a-bd27-4eff4f28a594",
   "metadata": {},
   "outputs": [
    {
     "data": {
      "text/html": [
       "<div>\n",
       "<style scoped>\n",
       "    .dataframe tbody tr th:only-of-type {\n",
       "        vertical-align: middle;\n",
       "    }\n",
       "\n",
       "    .dataframe tbody tr th {\n",
       "        vertical-align: top;\n",
       "    }\n",
       "\n",
       "    .dataframe thead th {\n",
       "        text-align: right;\n",
       "    }\n",
       "</style>\n",
       "<table border=\"1\" class=\"dataframe\">\n",
       "  <thead>\n",
       "    <tr style=\"text-align: right;\">\n",
       "      <th></th>\n",
       "      <th>Viewers_ID</th>\n",
       "      <th>Joke_identifier</th>\n",
       "      <th>Response_ID</th>\n",
       "      <th>Rating</th>\n",
       "    </tr>\n",
       "  </thead>\n",
       "  <tbody>\n",
       "    <tr>\n",
       "      <th>0</th>\n",
       "      <td>A1</td>\n",
       "      <td>Klint De Drunk Enugu 1</td>\n",
       "      <td>0</td>\n",
       "      <td>0.11</td>\n",
       "    </tr>\n",
       "    <tr>\n",
       "      <th>1</th>\n",
       "      <td>A1</td>\n",
       "      <td>Klint De Drunk Enugu 2</td>\n",
       "      <td>1</td>\n",
       "      <td>-4.64</td>\n",
       "    </tr>\n",
       "    <tr>\n",
       "      <th>2</th>\n",
       "      <td>A1</td>\n",
       "      <td>Klint De Drunk PH 1</td>\n",
       "      <td>2</td>\n",
       "      <td>-3.39</td>\n",
       "    </tr>\n",
       "    <tr>\n",
       "      <th>3</th>\n",
       "      <td>A1</td>\n",
       "      <td>Klint De Drunk PH 2</td>\n",
       "      <td>3</td>\n",
       "      <td>0.44</td>\n",
       "    </tr>\n",
       "    <tr>\n",
       "      <th>4</th>\n",
       "      <td>A1</td>\n",
       "      <td>Klint De Drunk Lagos 1</td>\n",
       "      <td>4</td>\n",
       "      <td>-4.83</td>\n",
       "    </tr>\n",
       "    <tr>\n",
       "      <th>...</th>\n",
       "      <td>...</td>\n",
       "      <td>...</td>\n",
       "      <td>...</td>\n",
       "      <td>...</td>\n",
       "    </tr>\n",
       "    <tr>\n",
       "      <th>612697</th>\n",
       "      <td>A9999</td>\n",
       "      <td>Gordons Lagos 2</td>\n",
       "      <td>612697</td>\n",
       "      <td>-0.92</td>\n",
       "    </tr>\n",
       "    <tr>\n",
       "      <th>612698</th>\n",
       "      <td>A9999</td>\n",
       "      <td>Gordons Lagos 3</td>\n",
       "      <td>612698</td>\n",
       "      <td>2.44</td>\n",
       "    </tr>\n",
       "    <tr>\n",
       "      <th>612699</th>\n",
       "      <td>A9999</td>\n",
       "      <td>Gordons Lagos 4</td>\n",
       "      <td>612699</td>\n",
       "      <td>1.03</td>\n",
       "    </tr>\n",
       "    <tr>\n",
       "      <th>612700</th>\n",
       "      <td>A9999</td>\n",
       "      <td>Gordons Abuja 1</td>\n",
       "      <td>612700</td>\n",
       "      <td>1.22</td>\n",
       "    </tr>\n",
       "    <tr>\n",
       "      <th>612701</th>\n",
       "      <td>A9999</td>\n",
       "      <td>Gordons Abuja 4</td>\n",
       "      <td>612701</td>\n",
       "      <td>1.28</td>\n",
       "    </tr>\n",
       "  </tbody>\n",
       "</table>\n",
       "<p>612702 rows × 4 columns</p>\n",
       "</div>"
      ],
      "text/plain": [
       "       Viewers_ID         Joke_identifier  Response_ID  Rating\n",
       "0              A1  Klint De Drunk Enugu 1            0    0.11\n",
       "1              A1  Klint De Drunk Enugu 2            1   -4.64\n",
       "2              A1     Klint De Drunk PH 1            2   -3.39\n",
       "3              A1     Klint De Drunk PH 2            3    0.44\n",
       "4              A1  Klint De Drunk Lagos 1            4   -4.83\n",
       "...           ...                     ...          ...     ...\n",
       "612697      A9999         Gordons Lagos 2       612697   -0.92\n",
       "612698      A9999         Gordons Lagos 3       612698    2.44\n",
       "612699      A9999         Gordons Lagos 4       612699    1.03\n",
       "612700      A9999         Gordons Abuja 1       612700    1.22\n",
       "612701      A9999         Gordons Abuja 4       612701    1.28\n",
       "\n",
       "[612702 rows x 4 columns]"
      ]
     },
     "execution_count": 194,
     "metadata": {},
     "output_type": "execute_result"
    }
   ],
   "source": [
    "df"
   ]
  },
  {
   "cell_type": "code",
   "execution_count": 197,
   "id": "b2e57936-c1c6-43ef-8012-a4c637de22f8",
   "metadata": {},
   "outputs": [
    {
     "data": {
      "text/html": [
       "<div>\n",
       "<style scoped>\n",
       "    .dataframe tbody tr th:only-of-type {\n",
       "        vertical-align: middle;\n",
       "    }\n",
       "\n",
       "    .dataframe tbody tr th {\n",
       "        vertical-align: top;\n",
       "    }\n",
       "\n",
       "    .dataframe thead th {\n",
       "        text-align: right;\n",
       "    }\n",
       "</style>\n",
       "<table border=\"1\" class=\"dataframe\">\n",
       "  <thead>\n",
       "    <tr style=\"text-align: right;\">\n",
       "      <th></th>\n",
       "      <th>Viewers_ID</th>\n",
       "      <th>Joke_identifier</th>\n",
       "      <th>Response_ID</th>\n",
       "      <th>Rating</th>\n",
       "      <th>scaled_Rating</th>\n",
       "    </tr>\n",
       "  </thead>\n",
       "  <tbody>\n",
       "    <tr>\n",
       "      <th>0</th>\n",
       "      <td>A1</td>\n",
       "      <td>Klint De Drunk Enugu 1</td>\n",
       "      <td>A1_Klint De Drunk Enugu 1</td>\n",
       "      <td>0.11</td>\n",
       "      <td>0.511</td>\n",
       "    </tr>\n",
       "    <tr>\n",
       "      <th>1</th>\n",
       "      <td>A1</td>\n",
       "      <td>Klint De Drunk Enugu 2</td>\n",
       "      <td>A1_Klint De Drunk Enugu 2</td>\n",
       "      <td>-4.64</td>\n",
       "      <td>0.036</td>\n",
       "    </tr>\n",
       "    <tr>\n",
       "      <th>2</th>\n",
       "      <td>A1</td>\n",
       "      <td>Klint De Drunk PH 1</td>\n",
       "      <td>A1_Klint De Drunk PH 1</td>\n",
       "      <td>-3.39</td>\n",
       "      <td>0.161</td>\n",
       "    </tr>\n",
       "    <tr>\n",
       "      <th>3</th>\n",
       "      <td>A1</td>\n",
       "      <td>Klint De Drunk PH 2</td>\n",
       "      <td>A1_Klint De Drunk PH 2</td>\n",
       "      <td>0.44</td>\n",
       "      <td>0.544</td>\n",
       "    </tr>\n",
       "    <tr>\n",
       "      <th>4</th>\n",
       "      <td>A1</td>\n",
       "      <td>Klint De Drunk Lagos 1</td>\n",
       "      <td>A1_Klint De Drunk Lagos 1</td>\n",
       "      <td>-4.83</td>\n",
       "      <td>0.017</td>\n",
       "    </tr>\n",
       "    <tr>\n",
       "      <th>...</th>\n",
       "      <td>...</td>\n",
       "      <td>...</td>\n",
       "      <td>...</td>\n",
       "      <td>...</td>\n",
       "      <td>...</td>\n",
       "    </tr>\n",
       "    <tr>\n",
       "      <th>612697</th>\n",
       "      <td>A9999</td>\n",
       "      <td>Gordons Lagos 2</td>\n",
       "      <td>A9999_Gordons Lagos 2</td>\n",
       "      <td>-0.92</td>\n",
       "      <td>0.408</td>\n",
       "    </tr>\n",
       "    <tr>\n",
       "      <th>612698</th>\n",
       "      <td>A9999</td>\n",
       "      <td>Gordons Lagos 3</td>\n",
       "      <td>A9999_Gordons Lagos 3</td>\n",
       "      <td>2.44</td>\n",
       "      <td>0.744</td>\n",
       "    </tr>\n",
       "    <tr>\n",
       "      <th>612699</th>\n",
       "      <td>A9999</td>\n",
       "      <td>Gordons Lagos 4</td>\n",
       "      <td>A9999_Gordons Lagos 4</td>\n",
       "      <td>1.03</td>\n",
       "      <td>0.603</td>\n",
       "    </tr>\n",
       "    <tr>\n",
       "      <th>612700</th>\n",
       "      <td>A9999</td>\n",
       "      <td>Gordons Abuja 1</td>\n",
       "      <td>A9999_Gordons Abuja 1</td>\n",
       "      <td>1.22</td>\n",
       "      <td>0.622</td>\n",
       "    </tr>\n",
       "    <tr>\n",
       "      <th>612701</th>\n",
       "      <td>A9999</td>\n",
       "      <td>Gordons Abuja 4</td>\n",
       "      <td>A9999_Gordons Abuja 4</td>\n",
       "      <td>1.28</td>\n",
       "      <td>0.628</td>\n",
       "    </tr>\n",
       "  </tbody>\n",
       "</table>\n",
       "<p>612702 rows × 5 columns</p>\n",
       "</div>"
      ],
      "text/plain": [
       "       Viewers_ID         Joke_identifier                Response_ID  Rating  \\\n",
       "0              A1  Klint De Drunk Enugu 1  A1_Klint De Drunk Enugu 1    0.11   \n",
       "1              A1  Klint De Drunk Enugu 2  A1_Klint De Drunk Enugu 2   -4.64   \n",
       "2              A1     Klint De Drunk PH 1     A1_Klint De Drunk PH 1   -3.39   \n",
       "3              A1     Klint De Drunk PH 2     A1_Klint De Drunk PH 2    0.44   \n",
       "4              A1  Klint De Drunk Lagos 1  A1_Klint De Drunk Lagos 1   -4.83   \n",
       "...           ...                     ...                        ...     ...   \n",
       "612697      A9999         Gordons Lagos 2      A9999_Gordons Lagos 2   -0.92   \n",
       "612698      A9999         Gordons Lagos 3      A9999_Gordons Lagos 3    2.44   \n",
       "612699      A9999         Gordons Lagos 4      A9999_Gordons Lagos 4    1.03   \n",
       "612700      A9999         Gordons Abuja 1      A9999_Gordons Abuja 1    1.22   \n",
       "612701      A9999         Gordons Abuja 4      A9999_Gordons Abuja 4    1.28   \n",
       "\n",
       "        scaled_Rating  \n",
       "0               0.511  \n",
       "1               0.036  \n",
       "2               0.161  \n",
       "3               0.544  \n",
       "4               0.017  \n",
       "...               ...  \n",
       "612697          0.408  \n",
       "612698          0.744  \n",
       "612699          0.603  \n",
       "612700          0.622  \n",
       "612701          0.628  \n",
       "\n",
       "[612702 rows x 5 columns]"
      ]
     },
     "execution_count": 197,
     "metadata": {},
     "output_type": "execute_result"
    }
   ],
   "source": [
    "from sklearn.preprocessing import MinMaxScaler\n",
    "\n",
    "scaler = MinMaxScaler(feature_range=(0, 1))\n",
    "\n",
    "df['scaled_Rating'] = scaler.fit_transform(df[['Rating']])\n",
    "df"
   ]
  },
  {
   "cell_type": "code",
   "execution_count": 198,
   "id": "df04bfa4-e806-4ccf-8c29-d905f07a4af4",
   "metadata": {},
   "outputs": [
    {
     "data": {
      "text/html": [
       "<div>\n",
       "<style scoped>\n",
       "    .dataframe tbody tr th:only-of-type {\n",
       "        vertical-align: middle;\n",
       "    }\n",
       "\n",
       "    .dataframe tbody tr th {\n",
       "        vertical-align: top;\n",
       "    }\n",
       "\n",
       "    .dataframe thead th {\n",
       "        text-align: right;\n",
       "    }\n",
       "</style>\n",
       "<table border=\"1\" class=\"dataframe\">\n",
       "  <thead>\n",
       "    <tr style=\"text-align: right;\">\n",
       "      <th></th>\n",
       "      <th>Rating</th>\n",
       "      <th>scaled_Rating</th>\n",
       "    </tr>\n",
       "  </thead>\n",
       "  <tbody>\n",
       "    <tr>\n",
       "      <th>count</th>\n",
       "      <td>612702.000000</td>\n",
       "      <td>612702.000000</td>\n",
       "    </tr>\n",
       "    <tr>\n",
       "      <th>mean</th>\n",
       "      <td>0.647024</td>\n",
       "      <td>0.564702</td>\n",
       "    </tr>\n",
       "    <tr>\n",
       "      <th>std</th>\n",
       "      <td>2.667301</td>\n",
       "      <td>0.266730</td>\n",
       "    </tr>\n",
       "    <tr>\n",
       "      <th>min</th>\n",
       "      <td>-5.000000</td>\n",
       "      <td>0.000000</td>\n",
       "    </tr>\n",
       "    <tr>\n",
       "      <th>25%</th>\n",
       "      <td>-1.300000</td>\n",
       "      <td>0.370000</td>\n",
       "    </tr>\n",
       "    <tr>\n",
       "      <th>50%</th>\n",
       "      <td>0.950000</td>\n",
       "      <td>0.595000</td>\n",
       "    </tr>\n",
       "    <tr>\n",
       "      <th>75%</th>\n",
       "      <td>2.690000</td>\n",
       "      <td>0.769000</td>\n",
       "    </tr>\n",
       "    <tr>\n",
       "      <th>max</th>\n",
       "      <td>5.000000</td>\n",
       "      <td>1.000000</td>\n",
       "    </tr>\n",
       "  </tbody>\n",
       "</table>\n",
       "</div>"
      ],
      "text/plain": [
       "              Rating  scaled_Rating\n",
       "count  612702.000000  612702.000000\n",
       "mean        0.647024       0.564702\n",
       "std         2.667301       0.266730\n",
       "min        -5.000000       0.000000\n",
       "25%        -1.300000       0.370000\n",
       "50%         0.950000       0.595000\n",
       "75%         2.690000       0.769000\n",
       "max         5.000000       1.000000"
      ]
     },
     "execution_count": 198,
     "metadata": {},
     "output_type": "execute_result"
    }
   ],
   "source": [
    "df.describe()"
   ]
  },
  {
   "cell_type": "code",
   "execution_count": 200,
   "id": "dd9db1eb-b93f-455b-a44a-192b1a181c8d",
   "metadata": {},
   "outputs": [],
   "source": [
    "class Dataset(torch.utils.data.Dataset):\n",
    "    def __init__(self,df):\n",
    "        super(Dataset,self).__init__()\n",
    "        self.df=df\n",
    "    def __len__(self):\n",
    "        return len(self.df)\n",
    "    def __getitem__(self,idx):\n",
    "        data=self.df.iloc[idx]\n",
    "        user=users_to_i[data['Viewers_ID']]\n",
    "        comedy=comedy_to_i[data['Joke_identifier']]\n",
    "        rating=data['scaled_Rating']\n",
    "        return torch.Tensor([user,comedy]),torch.Tensor([rating])\n",
    "\n",
    "train_idx=int(len(df)*0.8)\n",
    "val_idx=int(len(df)*0.1)\n",
    "\n",
    "train_dataset=Dataset(df[:train_idx])\n",
    "val_dataset=Dataset(df[train_idx:train_idx+val_idx])\n",
    "test_dataset=Dataset(df[train_idx+val_idx:])\n",
    "\n",
    "train_loader= torch.utils.data.DataLoader(train_dataset,batch_size=500,shuffle=True)\n",
    "val_loader= torch.utils.data.DataLoader(val_dataset,batch_size=500,shuffle=True)\n",
    "test_loader= torch.utils.data.DataLoader(test_dataset,batch_size=500,shuffle=True)"
   ]
  },
  {
   "cell_type": "code",
   "execution_count": 96,
   "id": "ec92fde8-997f-4a39-87f7-5c6040396f1e",
   "metadata": {},
   "outputs": [
    {
     "data": {
      "text/plain": [
       "(490161, 61270, 61271)"
      ]
     },
     "execution_count": 96,
     "metadata": {},
     "output_type": "execute_result"
    }
   ],
   "source": [
    "train_dataset.__len__(),val_dataset.__len__(),test_dataset.__len__()"
   ]
  },
  {
   "cell_type": "code",
   "execution_count": 201,
   "id": "15502f32-a768-4b12-ac5b-64a67529daeb",
   "metadata": {},
   "outputs": [
    {
     "data": {
      "text/plain": [
       "(tensor([61.,  2.]), tensor([0.7030]))"
      ]
     },
     "execution_count": 201,
     "metadata": {},
     "output_type": "execute_result"
    }
   ],
   "source": [
    "train_dataset.__getitem__(1001)"
   ]
  },
  {
   "cell_type": "code",
   "execution_count": 202,
   "id": "5d6fb497-56a9-4461-a6dc-81f4a45b60b8",
   "metadata": {},
   "outputs": [],
   "source": [
    "class Recommender(nn.Module):\n",
    "    def __init__(self,no_of_users,no_of_comedy,embed_dim):\n",
    "        super(Recommender, self).__init__()\n",
    "\n",
    "        self.user_embeddings= nn.Embedding(no_of_users,embed_dim)\n",
    "        self.comedy_embeddings= nn.Embedding(no_of_items,embed_dim)\n",
    "\n",
    "        self.fc1=nn.Linear(embed_dim*2, 200)\n",
    "        self.fc2=nn.Linear(200, 100)\n",
    "        self.fc3=nn.Linear(100, 1)\n",
    "        self.relu=nn.ReLU()\n",
    "        self.dropout=nn.Dropout(p=0.3)\n",
    "\n",
    "    def forward(self,x):\n",
    "        x=torch.cat([self.user_embeddings(x[:,0].long()),self.comedy_embeddings(x[:,1].long())],dim=1)\n",
    "        out=self.relu(self.fc1(x))\n",
    "        out=self.dropout(out)\n",
    "        out=self.relu(self.fc2(out))\n",
    "        out=self.dropout(out)\n",
    "        out=self.relu(self.fc3(out))\n",
    "        return out\n",
    "\n",
    "no_of_users,no_of_comedy=len(users_to_i),len(comedy_to_i)\n",
    "embed_dim=20\n",
    "\n",
    "model=Recommender(no_of_users,no_of_comedy,embed_dim)\n",
    "model=model.to(device)"
   ]
  },
  {
   "cell_type": "code",
   "execution_count": 203,
   "id": "0fc25d27-eea3-4826-8346-aa7318013a82",
   "metadata": {},
   "outputs": [
    {
     "data": {
      "text/plain": [
       "Recommender(\n",
       "  (user_embeddings): Embedding(40863, 20)\n",
       "  (comedy_embeddings): Embedding(127, 20)\n",
       "  (fc1): Linear(in_features=40, out_features=200, bias=True)\n",
       "  (fc2): Linear(in_features=200, out_features=100, bias=True)\n",
       "  (fc3): Linear(in_features=100, out_features=1, bias=True)\n",
       "  (relu): ReLU()\n",
       "  (dropout): Dropout(p=0.3, inplace=False)\n",
       ")"
      ]
     },
     "execution_count": 203,
     "metadata": {},
     "output_type": "execute_result"
    }
   ],
   "source": [
    "model"
   ]
  },
  {
   "cell_type": "code",
   "execution_count": 204,
   "id": "7173ff69-d5e0-4f7a-9625-943225ecd8ec",
   "metadata": {},
   "outputs": [],
   "source": [
    "criterion = nn.MSELoss()\n",
    "def train(epochs,model,dir):\n",
    "    optimizer = torch.optim.Adam(model.parameters(), lr=0.001)\n",
    "    model_path='model.pt'\n",
    "    best_val_loss = float('inf')\n",
    "    best_train_loss = float('inf')\n",
    "\n",
    "    for epoch in range(epochs):\n",
    "        total_loss = 0\n",
    "        total_val_loss = 0\n",
    "        print('Training..')\n",
    "        model.train()\n",
    "        for batch in tqdm(train_loader):\n",
    "            inputs,labels = batch\n",
    "            inputs,labels=inputs.to(device),labels.to(device)\n",
    "            out = model.forward(inputs)\n",
    "            optimizer.zero_grad()\n",
    "            loss = criterion(out,labels)\n",
    "            loss.backward()\n",
    "            optimizer.step()\n",
    "\n",
    "            total_loss += loss.item()\n",
    "\n",
    "        total_loss /= len(train_loader)\n",
    "        print('Validating..')\n",
    "        model.eval()\n",
    "        for val_batch in tqdm(val_loader):\n",
    "            with torch.no_grad():\n",
    "                val_inputs,val_labels = val_batch\n",
    "                val_inputs,val_labels=val_inputs.to(device),val_labels.to(device)\n",
    "                val_out = model.forward(val_inputs)\n",
    "                val_loss = criterion(val_out, val_labels)\n",
    "                total_val_loss += val_loss.item()\n",
    "\n",
    "        total_val_loss /= len(val_loader)\n",
    "\n",
    "        if total_val_loss < best_val_loss:\n",
    "            print('re-assigning best loss')\n",
    "            best_val_loss = total_val_loss\n",
    "            best_train_loss=total_loss\n",
    "            print('storing best model')\n",
    "            torch.save({\n",
    "                'epoch': epoch,\n",
    "                'model_state_dict': model.state_dict(),\n",
    "                'optimizer_state_dict': optimizer.state_dict(),\n",
    "                'loss': loss\n",
    "            }, f\"{dir}/{model_path}\")\n",
    "            \n",
    "            #for Inference\n",
    "            model_scripted = torch.jit.script(model)\n",
    "            model_scripted.save(f\"{dir}/model_scripted.pt\")\n",
    "\n",
    "        print(f\"Epoch: {epoch + 1} | Train Loss: {total_loss} | Validation Loss: {total_val_loss}\")\n",
    "\n",
    "    return {\n",
    "        'Best_training_loss':best_train_loss,\n",
    "        'Best_validation_loss': best_val_loss\n",
    "        }"
   ]
  },
  {
   "cell_type": "code",
   "execution_count": 205,
   "id": "bb9a7a06-498e-4434-a98d-d8f2aad84dbc",
   "metadata": {},
   "outputs": [
    {
     "name": "stdout",
     "output_type": "stream",
     "text": [
      "Training..\n"
     ]
    },
    {
     "name": "stderr",
     "output_type": "stream",
     "text": [
      "100%|██████████| 981/981 [01:22<00:00, 11.85it/s]\n"
     ]
    },
    {
     "name": "stdout",
     "output_type": "stream",
     "text": [
      "Validating..\n"
     ]
    },
    {
     "name": "stderr",
     "output_type": "stream",
     "text": [
      "100%|██████████| 123/123 [00:12<00:00,  9.92it/s]\n"
     ]
    },
    {
     "name": "stdout",
     "output_type": "stream",
     "text": [
      "re-assigning best loss\n",
      "storing best model\n",
      "Epoch: 1 | Train Loss: 0.06810411677204992 | Validation Loss: 0.06674015349367769\n",
      "Training..\n"
     ]
    },
    {
     "name": "stderr",
     "output_type": "stream",
     "text": [
      "100%|██████████| 981/981 [01:49<00:00,  9.00it/s]\n"
     ]
    },
    {
     "name": "stdout",
     "output_type": "stream",
     "text": [
      "Validating..\n"
     ]
    },
    {
     "name": "stderr",
     "output_type": "stream",
     "text": [
      "100%|██████████| 123/123 [00:12<00:00, 10.09it/s]\n"
     ]
    },
    {
     "name": "stdout",
     "output_type": "stream",
     "text": [
      "Epoch: 2 | Train Loss: 0.062331985150607234 | Validation Loss: 0.06724329047450205\n",
      "Training..\n"
     ]
    },
    {
     "name": "stderr",
     "output_type": "stream",
     "text": [
      "100%|██████████| 981/981 [01:48<00:00,  9.08it/s]\n"
     ]
    },
    {
     "name": "stdout",
     "output_type": "stream",
     "text": [
      "Validating..\n"
     ]
    },
    {
     "name": "stderr",
     "output_type": "stream",
     "text": [
      "100%|██████████| 123/123 [00:11<00:00, 10.40it/s]\n"
     ]
    },
    {
     "name": "stdout",
     "output_type": "stream",
     "text": [
      "Epoch: 3 | Train Loss: 0.05808032561894829 | Validation Loss: 0.07036251274914276\n",
      "Training..\n"
     ]
    },
    {
     "name": "stderr",
     "output_type": "stream",
     "text": [
      "100%|██████████| 981/981 [01:53<00:00,  8.63it/s]\n"
     ]
    },
    {
     "name": "stdout",
     "output_type": "stream",
     "text": [
      "Validating..\n"
     ]
    },
    {
     "name": "stderr",
     "output_type": "stream",
     "text": [
      "100%|██████████| 123/123 [00:13<00:00,  9.10it/s]\n"
     ]
    },
    {
     "name": "stdout",
     "output_type": "stream",
     "text": [
      "Epoch: 4 | Train Loss: 0.05250259587934258 | Validation Loss: 0.07213776173993824\n",
      "Training..\n"
     ]
    },
    {
     "name": "stderr",
     "output_type": "stream",
     "text": [
      "100%|██████████| 981/981 [01:58<00:00,  8.27it/s]\n"
     ]
    },
    {
     "name": "stdout",
     "output_type": "stream",
     "text": [
      "Validating..\n"
     ]
    },
    {
     "name": "stderr",
     "output_type": "stream",
     "text": [
      "100%|██████████| 123/123 [00:14<00:00,  8.63it/s]\n"
     ]
    },
    {
     "name": "stdout",
     "output_type": "stream",
     "text": [
      "Epoch: 5 | Train Loss: 0.04876303896080099 | Validation Loss: 0.07392782911779434\n"
     ]
    },
    {
     "data": {
      "text/plain": [
       "{'Best_training_loss': 0.06810411677204992,\n",
       " 'Best_validation_loss': 0.06674015349367769}"
      ]
     },
     "execution_count": 205,
     "metadata": {},
     "output_type": "execute_result"
    }
   ],
   "source": [
    "train(5,model,'./')"
   ]
  },
  {
   "cell_type": "code",
   "execution_count": 206,
   "id": "057e1526-adba-4852-b633-27dfbc74f4c9",
   "metadata": {},
   "outputs": [],
   "source": [
    "def load_model(dir,mode='inference'):\n",
    "    if mode=='training':\n",
    "        model=Recommender(no_of_users,no_of_comedy,embed_dim)\n",
    "        checkpoint = torch.load('./model.pt')\n",
    "        model.load_state_dict(checkpoint['model_state_dict'])\n",
    "    else:\n",
    "        model = torch.jit.load('model_scripted.pt')\n",
    "    model.eval()\n",
    "    return model"
   ]
  },
  {
   "cell_type": "code",
   "execution_count": 494,
   "id": "ca579673-90b1-4e03-a3e8-96ba27f78e62",
   "metadata": {},
   "outputs": [
    {
     "name": "stderr",
     "output_type": "stream",
     "text": [
      "100%|██████████| 123/123 [00:08<00:00, 14.07it/s]\n"
     ]
    },
    {
     "name": "stdout",
     "output_type": "stream",
     "text": [
      "Test Loss: 0.06913939854357301\n"
     ]
    }
   ],
   "source": [
    "model=load_model(dir='./',mode='inference')\n",
    "\n",
    "total_test_loss=0\n",
    "for test_batch in tqdm(test_loader):\n",
    "            with torch.no_grad():\n",
    "                test_inputs,test_labels = test_batch\n",
    "                test_inputs,test_labels=test_inputs.to(device),test_labels.to(device)\n",
    "                test_out = model.forward(test_inputs)\n",
    "                test_loss = criterion(test_out, test_labels)\n",
    "                total_test_loss += test_loss.item()\n",
    "\n",
    "total_test_loss /= len(val_loader)\n",
    "print(f\"Test Loss: {total_test_loss}\")"
   ]
  },
  {
   "cell_type": "code",
   "execution_count": null,
   "id": "af7f130f-74e2-41ba-99b9-e6311401f912",
   "metadata": {},
   "outputs": [],
   "source": [
    "Test Model"
   ]
  },
  {
   "cell_type": "code",
   "execution_count": 292,
   "id": "53f639d9-5ee6-437b-b51a-0dba9e397e92",
   "metadata": {},
   "outputs": [
    {
     "data": {
      "text/plain": [
       "(Viewers_ID                                A1\n",
       " Joke_identifier       Klint De Drunk Enugu 1\n",
       " Response_ID        A1_Klint De Drunk Enugu 1\n",
       " Rating                                  0.11\n",
       " scaled_Rating                          0.511\n",
       " Name: 0, dtype: object,\n",
       " (tensor([0., 0.]), tensor([0.5110])))"
      ]
     },
     "execution_count": 292,
     "metadata": {},
     "output_type": "execute_result"
    }
   ],
   "source": [
    "df.iloc[0],train_dataset.__getitem__(0)"
   ]
  },
  {
   "cell_type": "code",
   "execution_count": 539,
   "id": "8988700d-99b5-47df-bfd0-1a928ad06589",
   "metadata": {},
   "outputs": [],
   "source": [
    "def predict_rating(user,comedy):\n",
    "    user=users_to_i[user]\n",
    "    comedy=comedy_to_i[comedy]\n",
    "    input=torch.Tensor([user,comedy]).view(1,-1)\n",
    "    output=(model(input)).detach().numpy()\n",
    "    predicted_rating=scaler.inverse_transform(output)[0][0]\n",
    "    return predicted_rating"
   ]
  },
  {
   "cell_type": "code",
   "execution_count": 508,
   "id": "3c4f37d8-887c-42a0-a6cd-adce49d71df3",
   "metadata": {},
   "outputs": [
    {
     "name": "stdout",
     "output_type": "stream",
     "text": [
      "User: A11593\n",
      "Comedy: Bovi Warri 3\n",
      "No rating Given as User Has not seen this comedy Yet!!\n",
      "\n"
     ]
    },
    {
     "data": {
      "text/plain": [
       "-0.3141892"
      ]
     },
     "execution_count": 508,
     "metadata": {},
     "output_type": "execute_result"
    }
   ],
   "source": [
    "user_idx=np.random.randint(len(users_to_i))\n",
    "comedy_idx=np.random.randint(len(comedy_to_i))\n",
    "\n",
    "user_id=df.iloc[user_idx]['Viewers_ID']\n",
    "comedy_id=df.iloc[comedy_idx]['Joke_identifier']\n",
    "print(f\"User: {user_id}\\nComedy: {comedy_id}\")\n",
    "\n",
    "available_rating=df[(df['Viewers_ID']==user_id) & (df['Joke_identifier']==comedy_id)]\n",
    "if len(available_rating)>0:\n",
    "    print(f\"Rating Given: {available_rating['Rating'].values[0]}\\n\")\n",
    "else:\n",
    "    print(f\"No rating Given as User Has not seen this comedy Yet!!\\n\")\n",
    "\n",
    "predict_rating(user,comedy)"
   ]
  },
  {
   "cell_type": "code",
   "execution_count": 541,
   "id": "7f78a59a-6d9c-49ae-a623-3ce05d63943c",
   "metadata": {},
   "outputs": [],
   "source": [
    "test_df=pd.read_csv('./Data/SampleSubmission.csv')"
   ]
  },
  {
   "cell_type": "code",
   "execution_count": 543,
   "id": "b53e4044-a0ba-4acd-8383-e9d0c208ad30",
   "metadata": {},
   "outputs": [
    {
     "data": {
      "text/html": [
       "<div>\n",
       "<style scoped>\n",
       "    .dataframe tbody tr th:only-of-type {\n",
       "        vertical-align: middle;\n",
       "    }\n",
       "\n",
       "    .dataframe tbody tr th {\n",
       "        vertical-align: top;\n",
       "    }\n",
       "\n",
       "    .dataframe thead th {\n",
       "        text-align: right;\n",
       "    }\n",
       "</style>\n",
       "<table border=\"1\" class=\"dataframe\">\n",
       "  <thead>\n",
       "    <tr style=\"text-align: right;\">\n",
       "      <th></th>\n",
       "      <th>Unnamed: 0</th>\n",
       "      <th>Response_ID</th>\n",
       "      <th>Rating</th>\n",
       "    </tr>\n",
       "  </thead>\n",
       "  <tbody>\n",
       "    <tr>\n",
       "      <th>0</th>\n",
       "      <td>0</td>\n",
       "      <td>A1_Akpororo Lagos 1</td>\n",
       "      <td>1.935296</td>\n",
       "    </tr>\n",
       "    <tr>\n",
       "      <th>1</th>\n",
       "      <td>1</td>\n",
       "      <td>A1_Akpororo Abuja 1</td>\n",
       "      <td>1.537716</td>\n",
       "    </tr>\n",
       "    <tr>\n",
       "      <th>2</th>\n",
       "      <td>2</td>\n",
       "      <td>A1_Akpororo Abuja 5</td>\n",
       "      <td>1.797838</td>\n",
       "    </tr>\n",
       "    <tr>\n",
       "      <th>3</th>\n",
       "      <td>3</td>\n",
       "      <td>A1_I Go Dye Benin 1</td>\n",
       "      <td>1.721010</td>\n",
       "    </tr>\n",
       "    <tr>\n",
       "      <th>4</th>\n",
       "      <td>4</td>\n",
       "      <td>A1_I Go Dye Benin 3</td>\n",
       "      <td>1.053936</td>\n",
       "    </tr>\n",
       "    <tr>\n",
       "      <th>...</th>\n",
       "      <td>...</td>\n",
       "      <td>...</td>\n",
       "      <td>...</td>\n",
       "    </tr>\n",
       "    <tr>\n",
       "      <th>435868</th>\n",
       "      <td>435868</td>\n",
       "      <td>A9999_Funny Bone Lagos 1</td>\n",
       "      <td>0.387867</td>\n",
       "    </tr>\n",
       "    <tr>\n",
       "      <th>435869</th>\n",
       "      <td>435869</td>\n",
       "      <td>A9999_Okey Bakassi Lagos 2</td>\n",
       "      <td>0.063205</td>\n",
       "    </tr>\n",
       "    <tr>\n",
       "      <th>435870</th>\n",
       "      <td>435870</td>\n",
       "      <td>A9999_Okey Bakassi Abuja 3</td>\n",
       "      <td>0.000000</td>\n",
       "    </tr>\n",
       "    <tr>\n",
       "      <th>435871</th>\n",
       "      <td>435871</td>\n",
       "      <td>A9999_MisterIbu Lagos 1</td>\n",
       "      <td>0.000000</td>\n",
       "    </tr>\n",
       "    <tr>\n",
       "      <th>435872</th>\n",
       "      <td>435872</td>\n",
       "      <td>A9999_MisterIbu Lagos 4</td>\n",
       "      <td>0.000000</td>\n",
       "    </tr>\n",
       "  </tbody>\n",
       "</table>\n",
       "<p>435873 rows × 3 columns</p>\n",
       "</div>"
      ],
      "text/plain": [
       "        Unnamed: 0                 Response_ID    Rating\n",
       "0                0         A1_Akpororo Lagos 1  1.935296\n",
       "1                1         A1_Akpororo Abuja 1  1.537716\n",
       "2                2         A1_Akpororo Abuja 5  1.797838\n",
       "3                3         A1_I Go Dye Benin 1  1.721010\n",
       "4                4         A1_I Go Dye Benin 3  1.053936\n",
       "...            ...                         ...       ...\n",
       "435868      435868    A9999_Funny Bone Lagos 1  0.387867\n",
       "435869      435869  A9999_Okey Bakassi Lagos 2  0.063205\n",
       "435870      435870  A9999_Okey Bakassi Abuja 3  0.000000\n",
       "435871      435871     A9999_MisterIbu Lagos 1  0.000000\n",
       "435872      435872     A9999_MisterIbu Lagos 4  0.000000\n",
       "\n",
       "[435873 rows x 3 columns]"
      ]
     },
     "execution_count": 543,
     "metadata": {},
     "output_type": "execute_result"
    }
   ],
   "source": [
    "predictions=[]\n",
    "\n",
    "def create_pred(text):\n",
    "    try:\n",
    "        response=text.split('_')\n",
    "        user=response[0]\n",
    "        comedy=response[1]\n",
    "        rating=predict_rating(user,comedy)\n",
    "    except:\n",
    "        rating=0\n",
    "    return rating\n",
    "    \n",
    "test_df['Rating']=test_df['Response_ID'].apply(create_pred)\n",
    "test_df"
   ]
  },
  {
   "cell_type": "code",
   "execution_count": 544,
   "id": "d7b70dea-bbeb-4e64-a2a9-95f3aabe531c",
   "metadata": {},
   "outputs": [
    {
     "data": {
      "text/plain": [
       "73922"
      ]
     },
     "execution_count": 544,
     "metadata": {},
     "output_type": "execute_result"
    }
   ],
   "source": [
    "len(test_df[test_df['Rating']==0])"
   ]
  },
  {
   "cell_type": "code",
   "execution_count": 545,
   "id": "e47f9bf2-f158-46cf-b765-114e11806163",
   "metadata": {},
   "outputs": [],
   "source": [
    "test_df.to_csv('./Data/SampleSubmission.csv')"
   ]
  }
 ],
 "metadata": {
  "kernelspec": {
   "display_name": "Python 3 (ipykernel)",
   "language": "python",
   "name": "python3"
  },
  "language_info": {
   "codemirror_mode": {
    "name": "ipython",
    "version": 3
   },
   "file_extension": ".py",
   "mimetype": "text/x-python",
   "name": "python",
   "nbconvert_exporter": "python",
   "pygments_lexer": "ipython3",
   "version": "3.11.7"
  }
 },
 "nbformat": 4,
 "nbformat_minor": 5
}
